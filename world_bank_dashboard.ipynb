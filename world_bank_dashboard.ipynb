{
 "cells": [
  {
   "cell_type": "code",
   "execution_count": null,
   "id": "1076c3ff",
   "metadata": {},
   "outputs": [],
   "source": [
    "# Reshape metadata to tidy format\n",
    "import pandas as pd\n",
    "df = pd.read_csv(\"wdi_series_metadata.csv\", encoding='latin-1')\n",
    "tidy_df = df.melt(\n",
    "    id_vars=[\"Country Name\", \"Country Code\", \"Series Name\", \"Series Code\"],\n",
    "    var_name=\"Year\",\n",
    "    value_name=\"Value\"\n",
    ")\n",
    "tidy_df[\"Year\"] = tidy_df[\"Year\"].str.extract(r\"(\\d{4})\").astype(int)\n",
    "tidy_df[\"Value\"] = pd.to_numeric(tidy_df[\"Value\"], errors=\"coerce\")\n",
    "tidy_df.to_csv(\"wdi_tidy.csv\", index=False)"
   ]
  },
  {
   "cell_type": "code",
   "execution_count": null,
   "id": "4b8dafdb",
   "metadata": {},
   "outputs": [],
   "source": [
    "# Profile data by indicator\n",
    "df = pd.read_csv(\"wdi_tidy.csv\")\n",
    "profile = df.groupby(['Series Code', 'Series Name']).agg(\n",
    "    total_records=('Value', 'size'),\n",
    "    missing_count=('Value', lambda x: x.isna().sum()),\n",
    "    mean_value=('Value', 'mean'),\n",
    "    min_value=('Value', 'min'),\n",
    "    max_value=('Value', 'max')\n",
    ").reset_index()\n",
    "profile['missing_pct'] = profile['missing_count'] / profile['total_records'] * 100\n",
    "profile.to_csv(\"indicator_profile.csv\", index=False)"
   ]
  },
  {
   "cell_type": "code",
   "execution_count": null,
   "id": "00bd57b1",
   "metadata": {},
   "outputs": [],
   "source": [
    "# Filter indicators and prepare final dataset\n",
    "profile = pd.read_csv(\"indicator_profile.csv\")\n",
    "filtered = profile[profile[\"missing_pct\"] < 25]\n",
    "filtered.to_csv(\"indicators_under_25pct_missing.csv\", index=False)\n",
    "\n",
    "selected = [\"DT.DOD.DECT.CD\",\"FI.RES.TOTL.CD\",\"FP.CPI.TOTL.ZG\",\"FR.INR.LEND\",\"NY.GDP.MKTP.CD\",\"NY.GDP.PCAP.CD\"]\n",
    "df = pd.read_csv(\"wdi_tidy.csv\")\n",
    "filtered_df = df[df[\"Series Code\"].isin(selected)]\n",
    "filtered_df.to_csv(\"wdi_filtered.csv\", index=False)"
   ]
  },
  {
   "cell_type": "code",
   "execution_count": null,
   "id": "d6c0872a",
   "metadata": {},
   "outputs": [],
   "source": [
    "# Build dimension and fact tables\n",
    "df = pd.read_csv(\"wdi_filtered.csv\")\n",
    "dim_country = df[['Country Name','Country Code']].drop_duplicates().reset_index(drop=True)\n",
    "dim_country['Country ID'] = dim_country.index + 1\n",
    "dim_indicator = df[['Series Name','Series Code']].drop_duplicates().reset_index(drop=True)\n",
    "dim_indicator['Indicator ID'] = dim_indicator.index + 1\n",
    "dim_time = pd.DataFrame({'Year': sorted(df['Year'].unique())})\n",
    "dim_time['Time ID'] = dim_time.index + 1\n",
    "\n",
    "fact = df.merge(dim_country, on=['Country Name','Country Code']) \\\n",
    "         .merge(dim_indicator, on=['Series Name','Series Code']) \\\n",
    "         .merge(dim_time, on='Year')\n",
    "fact_table = fact[['Country ID','Indicator ID','Time ID','Value']]\n",
    "\n",
    "dim_country.to_csv(\"dim_country.csv\", index=False)\n",
    "dim_indicator.to_csv(\"dim_indicator.csv\", index=False)\n",
    "dim_time.to_csv(\"dim_time.csv\", index=False)\n",
    "fact_table.to_csv(\"fact_indicator_value.csv\", index=False)"
   ]
  },
  {
   "cell_type": "markdown",
   "id": "f17d2bf7",
   "metadata": {},
   "source": [
    "## SQL DDL and DML"
   ]
  },
  {
   "cell_type": "code",
   "execution_count": null,
   "id": "5a6f273f",
   "metadata": {},
   "outputs": [],
   "source": [
    "-- Create tables\n",
    "CREATE TABLE dim_country (\n",
    "    country_id SERIAL PRIMARY KEY,\n",
    "    country_name TEXT,\n",
    "    country_code TEXT\n",
    ");\n",
    "\n",
    "CREATE TABLE dim_indicator (\n",
    "    indicator_id SERIAL PRIMARY KEY,\n",
    "    indicator_name TEXT,\n",
    "    indicator_code TEXT\n",
    ");\n",
    "\n",
    "CREATE TABLE dim_year (\n",
    "    year INT PRIMARY KEY\n",
    ");\n",
    "\n",
    "CREATE TABLE fact_economic_indicators (\n",
    "    fact_id SERIAL PRIMARY KEY,\n",
    "    country_id INT REFERENCES dim_country(country_id),\n",
    "    indicator_id INT REFERENCES dim_indicator(indicator_id),\n",
    "    year_id INT REFERENCES dim_year(year),\n",
    "    value NUMERIC\n",
    ");\n",
    "\n",
    "-- Populate dimensions\n",
    "INSERT INTO dim_country (country_name, country_code)\n",
    "SELECT DISTINCT country_name, country_code FROM world_bank_data;\n",
    "INSERT INTO dim_indicator (indicator_name, indicator_code)\n",
    "SELECT DISTINCT series_name, series_code FROM world_bank_data;\n",
    "INSERT INTO dim_year (year)\n",
    "SELECT DISTINCT year FROM world_bank_data;\n",
    "\n",
    "-- Populate fact table\n",
    "INSERT INTO fact_economic_indicators (country_id, indicator_id, year_id, value)\n",
    "SELECT dc.country_id, di.indicator_id, dy.year_id, wbd.value\n",
    "FROM world_bank_data wbd\n",
    "JOIN dim_country dc ON wbd.country_name = dc.country_name\n",
    "JOIN dim_indicator di ON wbd.series_name = di.indicator_name\n",
    "JOIN dim_year dy ON wbd.year = dy.year;"
   ]
  }
 ],
 "metadata": {},
 "nbformat": 4,
 "nbformat_minor": 5
}
